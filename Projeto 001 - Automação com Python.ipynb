{
 "cells": [
  {
   "cell_type": "code",
   "execution_count": 1,
   "id": "32cfd45e",
   "metadata": {},
   "outputs": [],
   "source": [
    "# Automação de Sistemas e Processos com Python\n",
    "\n",
    "### Desafio:\n",
    "\n",
    "#Para controle de custos, todos os dias, seu chefe pede um relatório com todas as compras de mercadorias da empresa.\n",
    "#O seu trabalho, como analista, é enviar um e-mail para ele, assim que começar a trabalhar, com o total gasto, a quantidade de produtos compradas e o preço médio dos produtos.\n",
    "\n",
    "#E-mail do seu chefe: para o nosso exercício, coloque um e-mail seu como sendo o e-mail do seu chefe<br>\n",
    "#Link de acesso ao sistema da empresa: https://pages.hashtagtreinamentos.com/aula1-intensivao-sistema\n",
    "\n",
    "#Para resolver isso, vamos usar o pyautogui, uma biblioteca de automação de comandos do mouse e do teclado"
   ]
  },
  {
   "cell_type": "raw",
   "id": "bb0086ef",
   "metadata": {},
   "source": []
  },
  {
   "cell_type": "code",
   "execution_count": 2,
   "id": "ca33d7af",
   "metadata": {},
   "outputs": [],
   "source": [
    "import time \n",
    "import pyautogui\n",
    "#pyautogui.hotkey --> Para atalhos\n",
    "#pyautogui.click --> Para o mouse\n",
    "#pyautogui.write --> Para escrever texto\n",
    "#pyautogui.press --> Para apertar uma tecla\n",
    "\n",
    "pyautogui.PAUSE = 1 #---> Em cada comando ele vai esperar 'X' segundos\n",
    "\n",
    "# Passo 1 - Acessar o sistema da empresa\n",
    "\n",
    "#pyautogui.press('win')\n",
    "#pyautogui.write('chrome')\n",
    "#pyautogui.press('enter')\n",
    "\n",
    "pyautogui.hotkey('ctrl', 't')\n",
    "pyautogui.write('https://pages.hashtagtreinamentos.com/aula1-intensivao-sistema')\n",
    "pyautogui.press('enter')\n",
    "\n",
    "time.sleep(5)\n",
    "\n",
    "# Passo  2 - Fazer login no sistema \n",
    "\n",
    "pyautogui.click(x=622, y=369)# Localizar para o mouse onde devera fazer o 'click'.\n",
    "pyautogui.write('Meu login')\n",
    "pyautogui.click(x=598, y=451)\n",
    "pyautogui.write('Minha senha')\n",
    "pyautogui.click(x=659, y=524)\n",
    "\n",
    "\n",
    "# Passo 3 - Baixar a base de dados\n",
    "time.sleep(5)\n",
    "\n",
    "pyautogui.click(x=388, y=412)\n",
    "pyautogui.click(x=502, y=195)\n",
    "\n"
   ]
  },
  {
   "cell_type": "code",
   "execution_count": 3,
   "id": "4c79ed73",
   "metadata": {},
   "outputs": [
    {
     "name": "stdout",
     "output_type": "stream",
     "text": [
      "      CódigoCompra        Data               Fornecedor  \\\n",
      "0            65014  01/12/2023   Fabrica Hashtag Brasil   \n",
      "1            65014  01/12/2023   Fabrica Hashtag Brasil   \n",
      "2            65016  01/12/2023   Fabrica Doidona Brasil   \n",
      "3            65016  01/12/2023   Fabrica Doidona Brasil   \n",
      "4            65017  01/12/2023  Original Fábrica Brasil   \n",
      "...            ...         ...                      ...   \n",
      "4538         69996  26/12/2023        Revenda Argentina   \n",
      "4539         69996  26/12/2023        Revenda Argentina   \n",
      "4540         69996  26/12/2023        Revenda Argentina   \n",
      "4541         69997  26/12/2023   Fabrica Doidona Mexico   \n",
      "4542         69997  26/12/2023   Fabrica Doidona Mexico   \n",
      "\n",
      "                            Produto  Quantidade  ValorUnitário  ValorFinal  \n",
      "0              Óleo Motor - Linha A           5         259.00     1295.00  \n",
      "1           Kit Embreagem - Linha A           1         380.00      380.00  \n",
      "2                 Bateria - Linha A           2         479.00      958.00  \n",
      "3          Filtro de Óleo - Linha A           1          18.90       18.90  \n",
      "4         Farol Principal - Linha A           3         159.90      479.70  \n",
      "...                             ...         ...            ...         ...  \n",
      "4538         Logo Hashtag - Linha A           2          10.00       20.00  \n",
      "4539  Terminal de Direção - Linha B           4         156.40      625.60  \n",
      "4540      Farol Principal - Linha B           1         183.89      183.89  \n",
      "4541                Pneus - Linha A           1         359.91      359.91  \n",
      "4542        Kit Embreagem - Linha C           2         502.55     1005.10  \n",
      "\n",
      "[4543 rows x 7 columns]\n",
      "\n",
      "\n",
      "Gasto Final: 7254196.58\n",
      "Quantidade: 9715 \n",
      "Preço Médio: 746.7006258363356 \n"
     ]
    }
   ],
   "source": [
    "# Passo 4 - Calcular os indicadores\n",
    "import pandas\n",
    "#Sempre que trabalhar com Base de Dados no Python, é preciso usar o PANDAS(pacote de código)\n",
    "\n",
    "#Importar a Base de Dados\n",
    "\n",
    "#'r' = raw\n",
    "#'sep' = separador\n",
    "tabela = pandas.read_csv(r'C:\\Users\\bruno\\Downloads\\Compras.csv', sep=';')#'Sempre que estiver deslocando um caminho de arquivo para o Python, é preciso por um 'r'(raw --> texto cru) antes do arquivo'\n",
    "print(tabela)\n",
    "\n",
    "#--> Total gasto -> Somar a cluna final\n",
    "gasto_final = tabela['ValorFinal'].sum() #--> SEMPRE COLAR O NOME ORIGINAL DA COLUNA\n",
    "                     \n",
    "#--> Quantidade -> Somar a quantidade\n",
    "quantidade = tabela['Quantidade'].sum()\n",
    "\n",
    "#--> Preço médio -> Somar o gasto/quantidade\n",
    "preco_medio = gasto_final / quantidade\n",
    "\n",
    "print('\\n')\n",
    "print('Gasto Final: {}'.format(gasto_final))\n",
    "print('Quantidade: {} '.format(quantidade))\n",
    "print('Preço Médio: {} '.format(preco_medio))                  "
   ]
  },
  {
   "cell_type": "code",
   "execution_count": 4,
   "id": "349ff8d5",
   "metadata": {},
   "outputs": [],
   "source": [
    "import pyperclip #--> Vai transformar o texto com os caracteres em Português.\n",
    "\n",
    "# Passo 5 - Enviar o email para o chefe\n",
    "\n",
    "#Entrar no meu email\n",
    "pyautogui.hotkey('ctrl','t')\n",
    "pyautogui.write('https://mail.google.com/mail/u/0/#inbox')\n",
    "pyautogui.press('enter')\n",
    "\n",
    "time.sleep(6)#--> Esperando o site carregar\n",
    "\n",
    "#Clicar em escrever\n",
    "pyautogui.click(x=78, y=201)\n",
    "pyautogui.click(x=885, y=269)\n",
    "\n",
    "#Preencher o emial\n",
    "pyautogui.write('brunopeixotorodrigues546@gmail.com')\n",
    "pyautogui.press('tab')#selecionando email\n",
    "\n",
    "pyautogui.press('tab')#Passando para o campo do assunto\n",
    "pyperclip.copy('Relatório de Compras')\n",
    "pyautogui.hotkey('ctrl','v')\n",
    "\n",
    "pyautogui.press('tab')#Passando para o campo do email\n",
    "\n",
    "texto = f'''\n",
    "\n",
    "Segue o Relatório de Compras:\n",
    "\n",
    "Valor Final = R${gasto_final:,.2f}\n",
    "Quantidade = R${quantidade:,.2f}\n",
    "Preço Médio = R${preco_medio:,.2f}\n",
    "\n",
    "--> Qualquer dúvida, é apenas enviar mensagem. \n",
    "    De: Bruno Rodrigues Peixoto\n",
    "'''\n",
    "\n",
    "pyperclip.copy(texto)\n",
    "pyautogui.hotkey('ctrl', 'v')\n",
    "\n",
    "\n",
    "\n",
    "#Enviar\n",
    "pyautogui.click(x=848, y=629)\n"
   ]
  },
  {
   "cell_type": "code",
   "execution_count": 5,
   "id": "59c24fd1",
   "metadata": {},
   "outputs": [
    {
     "name": "stdout",
     "output_type": "stream",
     "text": [
      "Point(x=1078, y=19)\n"
     ]
    }
   ],
   "source": [
    "time.sleep(5)\n",
    "print(pyautogui.position()) #--> VAI CAPITURAR A POSIÇÃO NA TELA\n"
   ]
  },
  {
   "cell_type": "code",
   "execution_count": 6,
   "id": "97e93c08",
   "metadata": {},
   "outputs": [
    {
     "name": "stdout",
     "output_type": "stream",
     "text": [
      "Requirement already satisfied: pyperclip in c:\\users\\bruno\\anaconda3\\lib\\site-packages (1.8.2)\n"
     ]
    }
   ],
   "source": [
    "!pip install pyperclip\n"
   ]
  },
  {
   "cell_type": "code",
   "execution_count": null,
   "id": "aaaf8e50",
   "metadata": {},
   "outputs": [],
   "source": []
  }
 ],
 "metadata": {
  "kernelspec": {
   "display_name": "Python 3 (ipykernel)",
   "language": "python",
   "name": "python3"
  },
  "language_info": {
   "codemirror_mode": {
    "name": "ipython",
    "version": 3
   },
   "file_extension": ".py",
   "mimetype": "text/x-python",
   "name": "python",
   "nbconvert_exporter": "python",
   "pygments_lexer": "ipython3",
   "version": "3.10.9"
  }
 },
 "nbformat": 4,
 "nbformat_minor": 5
}
